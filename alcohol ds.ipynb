{
 "cells": [
  {
   "cell_type": "code",
   "execution_count": 1,
   "id": "ef630239",
   "metadata": {},
   "outputs": [],
   "source": [
    "import pandas as pd\n",
    "import numpy as np\n",
    "import matplotlib.pyplot as plt"
   ]
  },
  {
   "cell_type": "code",
   "execution_count": 2,
   "id": "e91a13f3",
   "metadata": {},
   "outputs": [],
   "source": [
    "df=pd.read_csv('alcohol.csv')"
   ]
  },
  {
   "cell_type": "code",
   "execution_count": 3,
   "id": "7f1b0b3f",
   "metadata": {},
   "outputs": [],
   "source": [
    "df=df.rename(columns={'alcconsumption':'consumption','incomeperperson':'income'})"
   ]
  },
  {
   "cell_type": "code",
   "execution_count": 4,
   "id": "a6d75c82",
   "metadata": {},
   "outputs": [
    {
     "data": {
      "text/html": [
       "<div>\n",
       "<style scoped>\n",
       "    .dataframe tbody tr th:only-of-type {\n",
       "        vertical-align: middle;\n",
       "    }\n",
       "\n",
       "    .dataframe tbody tr th {\n",
       "        vertical-align: top;\n",
       "    }\n",
       "\n",
       "    .dataframe thead th {\n",
       "        text-align: right;\n",
       "    }\n",
       "</style>\n",
       "<table border=\"1\" class=\"dataframe\">\n",
       "  <thead>\n",
       "    <tr style=\"text-align: right;\">\n",
       "      <th></th>\n",
       "      <th>country</th>\n",
       "      <th>consumption</th>\n",
       "      <th>income</th>\n",
       "      <th>suicideper100th</th>\n",
       "      <th>employrate</th>\n",
       "      <th>urbanrate</th>\n",
       "    </tr>\n",
       "  </thead>\n",
       "  <tbody>\n",
       "    <tr>\n",
       "      <th>0</th>\n",
       "      <td>Afghanistan</td>\n",
       "      <td>0.03</td>\n",
       "      <td>NaN</td>\n",
       "      <td>6.684385</td>\n",
       "      <td>55.700001</td>\n",
       "      <td>24.04</td>\n",
       "    </tr>\n",
       "    <tr>\n",
       "      <th>1</th>\n",
       "      <td>Albania</td>\n",
       "      <td>7.29</td>\n",
       "      <td>1914.996551</td>\n",
       "      <td>7.699330</td>\n",
       "      <td>51.400002</td>\n",
       "      <td>46.72</td>\n",
       "    </tr>\n",
       "    <tr>\n",
       "      <th>2</th>\n",
       "      <td>Algeria</td>\n",
       "      <td>0.69</td>\n",
       "      <td>2231.993335</td>\n",
       "      <td>4.848770</td>\n",
       "      <td>50.500000</td>\n",
       "      <td>65.22</td>\n",
       "    </tr>\n",
       "    <tr>\n",
       "      <th>3</th>\n",
       "      <td>Andorra</td>\n",
       "      <td>10.17</td>\n",
       "      <td>21943.339900</td>\n",
       "      <td>5.362179</td>\n",
       "      <td>NaN</td>\n",
       "      <td>88.92</td>\n",
       "    </tr>\n",
       "    <tr>\n",
       "      <th>4</th>\n",
       "      <td>Angola</td>\n",
       "      <td>5.57</td>\n",
       "      <td>1381.004268</td>\n",
       "      <td>14.554677</td>\n",
       "      <td>75.699997</td>\n",
       "      <td>56.70</td>\n",
       "    </tr>\n",
       "  </tbody>\n",
       "</table>\n",
       "</div>"
      ],
      "text/plain": [
       "       country  consumption        income  suicideper100th  employrate  \\\n",
       "0  Afghanistan         0.03           NaN         6.684385   55.700001   \n",
       "1      Albania         7.29   1914.996551         7.699330   51.400002   \n",
       "2      Algeria         0.69   2231.993335         4.848770   50.500000   \n",
       "3      Andorra        10.17  21943.339900         5.362179         NaN   \n",
       "4       Angola         5.57   1381.004268        14.554677   75.699997   \n",
       "\n",
       "   urbanrate  \n",
       "0      24.04  \n",
       "1      46.72  \n",
       "2      65.22  \n",
       "3      88.92  \n",
       "4      56.70  "
      ]
     },
     "execution_count": 4,
     "metadata": {},
     "output_type": "execute_result"
    }
   ],
   "source": [
    "df.head()"
   ]
  },
  {
   "cell_type": "code",
   "execution_count": 5,
   "id": "13859591",
   "metadata": {},
   "outputs": [
    {
     "data": {
      "text/html": [
       "<div>\n",
       "<style scoped>\n",
       "    .dataframe tbody tr th:only-of-type {\n",
       "        vertical-align: middle;\n",
       "    }\n",
       "\n",
       "    .dataframe tbody tr th {\n",
       "        vertical-align: top;\n",
       "    }\n",
       "\n",
       "    .dataframe thead th {\n",
       "        text-align: right;\n",
       "    }\n",
       "</style>\n",
       "<table border=\"1\" class=\"dataframe\">\n",
       "  <thead>\n",
       "    <tr style=\"text-align: right;\">\n",
       "      <th></th>\n",
       "      <th>country</th>\n",
       "      <th>consumption</th>\n",
       "      <th>income</th>\n",
       "      <th>suicideper100th</th>\n",
       "      <th>employrate</th>\n",
       "      <th>urbanrate</th>\n",
       "    </tr>\n",
       "  </thead>\n",
       "  <tbody>\n",
       "    <tr>\n",
       "      <th>208</th>\n",
       "      <td>Vietnam</td>\n",
       "      <td>3.91</td>\n",
       "      <td>722.807559</td>\n",
       "      <td>11.653322</td>\n",
       "      <td>71.000000</td>\n",
       "      <td>27.84</td>\n",
       "    </tr>\n",
       "    <tr>\n",
       "      <th>209</th>\n",
       "      <td>West Bank and Gaza</td>\n",
       "      <td>NaN</td>\n",
       "      <td>NaN</td>\n",
       "      <td>NaN</td>\n",
       "      <td>32.000000</td>\n",
       "      <td>71.90</td>\n",
       "    </tr>\n",
       "    <tr>\n",
       "      <th>210</th>\n",
       "      <td>Yemen, Rep.</td>\n",
       "      <td>0.20</td>\n",
       "      <td>610.357367</td>\n",
       "      <td>6.265789</td>\n",
       "      <td>39.000000</td>\n",
       "      <td>30.64</td>\n",
       "    </tr>\n",
       "    <tr>\n",
       "      <th>211</th>\n",
       "      <td>Zambia</td>\n",
       "      <td>3.56</td>\n",
       "      <td>432.226337</td>\n",
       "      <td>12.019036</td>\n",
       "      <td>61.000000</td>\n",
       "      <td>35.42</td>\n",
       "    </tr>\n",
       "    <tr>\n",
       "      <th>212</th>\n",
       "      <td>Zimbabwe</td>\n",
       "      <td>4.96</td>\n",
       "      <td>320.771890</td>\n",
       "      <td>13.905267</td>\n",
       "      <td>66.800003</td>\n",
       "      <td>37.34</td>\n",
       "    </tr>\n",
       "  </tbody>\n",
       "</table>\n",
       "</div>"
      ],
      "text/plain": [
       "                country  consumption      income  suicideper100th  employrate  \\\n",
       "208             Vietnam         3.91  722.807559        11.653322   71.000000   \n",
       "209  West Bank and Gaza          NaN         NaN              NaN   32.000000   \n",
       "210         Yemen, Rep.         0.20  610.357367         6.265789   39.000000   \n",
       "211              Zambia         3.56  432.226337        12.019036   61.000000   \n",
       "212            Zimbabwe         4.96  320.771890        13.905267   66.800003   \n",
       "\n",
       "     urbanrate  \n",
       "208      27.84  \n",
       "209      71.90  \n",
       "210      30.64  \n",
       "211      35.42  \n",
       "212      37.34  "
      ]
     },
     "execution_count": 5,
     "metadata": {},
     "output_type": "execute_result"
    }
   ],
   "source": [
    "df.tail()"
   ]
  },
  {
   "cell_type": "code",
   "execution_count": 6,
   "id": "5e87a822",
   "metadata": {},
   "outputs": [
    {
     "data": {
      "text/html": [
       "<div>\n",
       "<style scoped>\n",
       "    .dataframe tbody tr th:only-of-type {\n",
       "        vertical-align: middle;\n",
       "    }\n",
       "\n",
       "    .dataframe tbody tr th {\n",
       "        vertical-align: top;\n",
       "    }\n",
       "\n",
       "    .dataframe thead th {\n",
       "        text-align: right;\n",
       "    }\n",
       "</style>\n",
       "<table border=\"1\" class=\"dataframe\">\n",
       "  <thead>\n",
       "    <tr style=\"text-align: right;\">\n",
       "      <th></th>\n",
       "      <th>country</th>\n",
       "      <th>consumption</th>\n",
       "      <th>income</th>\n",
       "      <th>suicideper100th</th>\n",
       "      <th>employrate</th>\n",
       "      <th>urbanrate</th>\n",
       "    </tr>\n",
       "  </thead>\n",
       "  <tbody>\n",
       "    <tr>\n",
       "      <th>count</th>\n",
       "      <td>213</td>\n",
       "      <td>187.000000</td>\n",
       "      <td>190.000000</td>\n",
       "      <td>191.000000</td>\n",
       "      <td>178.000000</td>\n",
       "      <td>203.000000</td>\n",
       "    </tr>\n",
       "    <tr>\n",
       "      <th>unique</th>\n",
       "      <td>213</td>\n",
       "      <td>NaN</td>\n",
       "      <td>NaN</td>\n",
       "      <td>NaN</td>\n",
       "      <td>NaN</td>\n",
       "      <td>NaN</td>\n",
       "    </tr>\n",
       "    <tr>\n",
       "      <th>top</th>\n",
       "      <td>Moldova</td>\n",
       "      <td>NaN</td>\n",
       "      <td>NaN</td>\n",
       "      <td>NaN</td>\n",
       "      <td>NaN</td>\n",
       "      <td>NaN</td>\n",
       "    </tr>\n",
       "    <tr>\n",
       "      <th>freq</th>\n",
       "      <td>1</td>\n",
       "      <td>NaN</td>\n",
       "      <td>NaN</td>\n",
       "      <td>NaN</td>\n",
       "      <td>NaN</td>\n",
       "      <td>NaN</td>\n",
       "    </tr>\n",
       "    <tr>\n",
       "      <th>mean</th>\n",
       "      <td>NaN</td>\n",
       "      <td>6.689412</td>\n",
       "      <td>8740.966076</td>\n",
       "      <td>9.640839</td>\n",
       "      <td>58.635955</td>\n",
       "      <td>56.769360</td>\n",
       "    </tr>\n",
       "    <tr>\n",
       "      <th>std</th>\n",
       "      <td>NaN</td>\n",
       "      <td>4.899617</td>\n",
       "      <td>14262.809083</td>\n",
       "      <td>6.300178</td>\n",
       "      <td>10.519454</td>\n",
       "      <td>23.844933</td>\n",
       "    </tr>\n",
       "    <tr>\n",
       "      <th>min</th>\n",
       "      <td>NaN</td>\n",
       "      <td>0.030000</td>\n",
       "      <td>103.775857</td>\n",
       "      <td>0.201449</td>\n",
       "      <td>32.000000</td>\n",
       "      <td>10.400000</td>\n",
       "    </tr>\n",
       "    <tr>\n",
       "      <th>25%</th>\n",
       "      <td>NaN</td>\n",
       "      <td>2.625000</td>\n",
       "      <td>748.245151</td>\n",
       "      <td>4.988449</td>\n",
       "      <td>51.225000</td>\n",
       "      <td>36.830000</td>\n",
       "    </tr>\n",
       "    <tr>\n",
       "      <th>50%</th>\n",
       "      <td>NaN</td>\n",
       "      <td>5.920000</td>\n",
       "      <td>2553.496056</td>\n",
       "      <td>8.262893</td>\n",
       "      <td>58.699999</td>\n",
       "      <td>57.940000</td>\n",
       "    </tr>\n",
       "    <tr>\n",
       "      <th>75%</th>\n",
       "      <td>NaN</td>\n",
       "      <td>9.925000</td>\n",
       "      <td>9379.891166</td>\n",
       "      <td>12.328551</td>\n",
       "      <td>64.975000</td>\n",
       "      <td>74.210000</td>\n",
       "    </tr>\n",
       "    <tr>\n",
       "      <th>max</th>\n",
       "      <td>NaN</td>\n",
       "      <td>23.010000</td>\n",
       "      <td>105147.437700</td>\n",
       "      <td>35.752872</td>\n",
       "      <td>83.199997</td>\n",
       "      <td>100.000000</td>\n",
       "    </tr>\n",
       "  </tbody>\n",
       "</table>\n",
       "</div>"
      ],
      "text/plain": [
       "        country  consumption         income  suicideper100th  employrate  \\\n",
       "count       213   187.000000     190.000000       191.000000  178.000000   \n",
       "unique      213          NaN            NaN              NaN         NaN   \n",
       "top     Moldova          NaN            NaN              NaN         NaN   \n",
       "freq          1          NaN            NaN              NaN         NaN   \n",
       "mean        NaN     6.689412    8740.966076         9.640839   58.635955   \n",
       "std         NaN     4.899617   14262.809083         6.300178   10.519454   \n",
       "min         NaN     0.030000     103.775857         0.201449   32.000000   \n",
       "25%         NaN     2.625000     748.245151         4.988449   51.225000   \n",
       "50%         NaN     5.920000    2553.496056         8.262893   58.699999   \n",
       "75%         NaN     9.925000    9379.891166        12.328551   64.975000   \n",
       "max         NaN    23.010000  105147.437700        35.752872   83.199997   \n",
       "\n",
       "         urbanrate  \n",
       "count   203.000000  \n",
       "unique         NaN  \n",
       "top            NaN  \n",
       "freq           NaN  \n",
       "mean     56.769360  \n",
       "std      23.844933  \n",
       "min      10.400000  \n",
       "25%      36.830000  \n",
       "50%      57.940000  \n",
       "75%      74.210000  \n",
       "max     100.000000  "
      ]
     },
     "execution_count": 6,
     "metadata": {},
     "output_type": "execute_result"
    }
   ],
   "source": [
    "df.describe(include='all')"
   ]
  },
  {
   "cell_type": "code",
   "execution_count": 7,
   "id": "5277fae2",
   "metadata": {},
   "outputs": [
    {
     "data": {
      "text/plain": [
       "country             0\n",
       "consumption        26\n",
       "income             23\n",
       "suicideper100th    22\n",
       "employrate         35\n",
       "urbanrate          10\n",
       "dtype: int64"
      ]
     },
     "execution_count": 7,
     "metadata": {},
     "output_type": "execute_result"
    }
   ],
   "source": [
    "df.isnull().sum()"
   ]
  },
  {
   "cell_type": "code",
   "execution_count": 8,
   "id": "d6f5c7a5",
   "metadata": {},
   "outputs": [],
   "source": [
    "df['consumption'].fillna(df['consumption'].mean(),inplace=True)\n",
    "df['income'].fillna(df['income'].mean(),inplace=True)\n",
    "df['suicideper100th'].fillna(df['suicideper100th'].mean(),inplace=True)\n",
    "df['employrate'].fillna(df['employrate'].mean(),inplace=True)\n",
    "df['urbanrate'].fillna(df['urbanrate'].mean(),inplace=True)"
   ]
  },
  {
   "cell_type": "code",
   "execution_count": 9,
   "id": "c773bb3e",
   "metadata": {},
   "outputs": [
    {
     "name": "stdout",
     "output_type": "stream",
     "text": [
      "                 consumption    income  suicideper100th  employrate  urbanrate\n",
      "consumption         1.000000  0.195578         0.347951   -0.123301   0.248117\n",
      "income              0.195578  1.000000         0.005045   -0.010360   0.470109\n",
      "suicideper100th     0.347951  0.005045         1.000000    0.019985  -0.120550\n",
      "employrate         -0.123301 -0.010360         0.019985    1.000000  -0.288330\n",
      "urbanrate           0.248117  0.470109        -0.120550   -0.288330   1.000000\n"
     ]
    }
   ],
   "source": [
    "corr=df.corr()\n",
    "print(corr)\n",
    "#suicide has max rel w consumption,followed by urbanrate"
   ]
  },
  {
   "cell_type": "code",
   "execution_count": 10,
   "id": "f1ac5c85",
   "metadata": {},
   "outputs": [
    {
     "data": {
      "text/plain": [
       "<matplotlib.collections.PathCollection at 0x7fc65038efd0>"
      ]
     },
     "execution_count": 10,
     "metadata": {},
     "output_type": "execute_result"
    },
    {
     "data": {
      "image/png": "[encoded data removed]",
      "text/plain": [
       "<Figure size 432x288 with 1 Axes>"
      ]
     },
     "metadata": {
      "needs_background": "light"
     },
     "output_type": "display_data"
    }
   ],
   "source": [
    "plt.scatter(df.consumption,df.suicideper100th)"
   ]
  },
  {
   "cell_type": "code",
   "execution_count": null,
   "id": "a2fc1d9a",
   "metadata": {},
   "outputs": [],
   "source": []
  },
  {
   "cell_type": "code",
   "execution_count": null,
   "id": "a115a2d0",
   "metadata": {},
   "outputs": [],
   "source": []
  },
  {
   "cell_type": "code",
   "execution_count": null,
   "id": "92ee120a",
   "metadata": {},
   "outputs": [],
   "source": []
  },
  {
   "cell_type": "code",
   "execution_count": null,
   "id": "1add5d97",
   "metadata": {},
   "outputs": [],
   "source": []
  }
 ],
 "metadata": {
  "kernelspec": {
   "display_name": "Python 3",
   "language": "python",
   "name": "python3"
  },
  "language_info": {
   "codemirror_mode": {
    "name": "ipython",
    "version": 3
   },
   "file_extension": ".py",
   "mimetype": "text/x-python",
   "name": "python",
   "nbconvert_exporter": "python",
   "pygments_lexer": "ipython3",
   "version": "3.8.8"
  }
 },
 "nbformat": 4,
 "nbformat_minor": 5
}
